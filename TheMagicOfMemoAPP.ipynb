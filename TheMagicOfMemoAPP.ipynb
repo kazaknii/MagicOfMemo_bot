{
  "nbformat": 4,
  "nbformat_minor": 0,
  "metadata": {
    "colab": {
      "provenance": [],
      "include_colab_link": true
    },
    "kernelspec": {
      "name": "python3",
      "display_name": "Python 3"
    },
    "language_info": {
      "name": "python"
    }
  },
  "cells": [
    {
      "cell_type": "markdown",
      "metadata": {
        "id": "view-in-github",
        "colab_type": "text"
      },
      "source": [
        "<a href=\"https://colab.research.google.com/github/kazaknii/MagicOfMemo_bot/blob/main/TheMagicOfMemoAPP.ipynb\" target=\"_parent\"><img src=\"https://colab.research.google.com/assets/colab-badge.svg\" alt=\"Open In Colab\"/></a>"
      ]
    },
    {
      "cell_type": "markdown",
      "metadata": {
        "id": "8kW_qXJVTjic"
      },
      "source": [
        "# 「メモの魔力」webアプリ構築\n",
        "chatGPT APIを使って「メモの魔力」の内容を出力してくれるwebアプリを構築します。"
      ]
    },
    {
      "cell_type": "markdown",
      "source": [
        "## 1. 必要なライブラリのインストール\n",
        "・　ChatGPT APIを使用するために必要なライブラリ「openai」\n",
        "\n",
        "・　UI作成に必要なライブラリ「Streamlit」\n",
        "\n",
        "・　確認用URL生成に必要なライブラリ「ngrok」"
      ],
      "metadata": {
        "id": "vRJCuxALcgkb"
      }
    },
    {
      "cell_type": "code",
      "execution_count": null,
      "metadata": {
        "id": "Pbqipzj3nCy4"
      },
      "outputs": [],
      "source": [
        "!pip install streamlit==1.20.0 --quiet\n",
        "!pip install pyngrok==4.1.1 --quiet\n",
        "!pip install openai"
      ]
    },
    {
      "cell_type": "markdown",
      "source": [
        "streamlit、ngrok、openaiをインポートします。"
      ],
      "metadata": {
        "id": "husUkYy5dhZ4"
      }
    },
    {
      "cell_type": "code",
      "source": [
        "import streamlit as st\n",
        "from pyngrok import ngrok\n",
        "import openai"
      ],
      "metadata": {
        "id": "OsHcq-kaDwIi"
      },
      "execution_count": 35,
      "outputs": []
    },
    {
      "cell_type": "markdown",
      "source": [
        "## 2. コード作成\n",
        "`%%writefile`のマジックコマンドを使って、チャットボットのコードを「app.py」に書き込みます。  \n",
        "Streamlitでは、値を保持するために「st.session_state」を使います。  \n",
        "https://docs.streamlit.io/library/api-reference/session-state"
      ],
      "metadata": {
        "id": "5fOtVgU5duPe"
      }
    },
    {
      "cell_type": "code",
      "source": [
        "%%writefile app.py\n",
        "# 以下を「app.py」に書き込み\n",
        "import streamlit as st\n",
        "import openai\n",
        "import secret_keys  # 外部ファイルにAPI keyを保存\n",
        "\n",
        "openai.api_key = secret_keys.openai_api_key\n",
        "\n",
        "memo_prompt = \"\"\"# [{Goal}: ユーザーが入力した{既存のアイデア}を横展開して{新たなアイデア}を出力する]\n",
        "##変数 \n",
        "- {既存のアイデア} \n",
        "- {新たなアイデア}\n",
        "##メソッド\n",
        " - 既存のアイデア}のファクト：自分が興味を持ったことや発見した具体的な事実を５つ抽出して箇条書きにする \n",
        "STEP1：ファクトを抽象化：具体的な事実から導き出せる応用可能な法則や概念化して５つ箇条書きにする\n",
        "STEP2：{新たなアイデア}:抽象化した法則をもとに、全く他のことに応用できるアイデアにして５つ箇条書きにする\n",
        "STEP3：{新たなアイデア}をさらに掘り下げて、例として具体的なアイデアに落とし込んで５つ箇条書きにする\n",
        "##実行\"\"\"\n",
        "\n",
        "# st.session_stateを使いメッセージのやりとりを保存\n",
        "if \"messages\" not in st.session_state:\n",
        "    st.session_state[\"messages\"] = [\n",
        "        {\"role\": \"system\", \"content\": memo_prompt}\n",
        "        ]\n",
        "\n",
        "# チャットボットとやりとりする関数\n",
        "def communicate():\n",
        "    messages = st.session_state[\"messages\"]\n",
        "\n",
        "    user_message = {\"role\": \"user\", \"content\": st.session_state[\"user_input\"]}\n",
        "    messages.append(user_message)\n",
        "\n",
        "    response = openai.ChatCompletion.create(\n",
        "        model=\"gpt-3.5-turbo\",\n",
        "        messages=messages\n",
        "    )  \n",
        "\n",
        "    bot_message = response[\"choices\"][0][\"message\"]\n",
        "    messages.append(bot_message)\n",
        "\n",
        "    st.session_state[\"user_input\"] = \"\"  # 入力欄を消去\n",
        "\n",
        "\n",
        "# ユーザーインターフェイスの構築\n",
        "st.title(\"メモの魔力アプリ\")\n",
        "st.write(\"アイデアのエッセンスを抽出して別のアイデアに発展させるbotです\")\n",
        "st.image(\"title.png\")\n",
        "\n",
        "user_input = st.text_input(\"既存のアイデアを入力してください 例）家事代行、ミニ豚カフェ、ケバブ屋台etc\", key=\"user_input\", on_change=communicate)\n",
        "\n",
        "if st.session_state[\"messages\"]:\n",
        "    messages = st.session_state[\"messages\"]\n",
        "\n",
        "    for message in reversed(messages[1:]):  # 直近のメッセージを上に\n",
        "        speaker = \"🙂\"\n",
        "        if message[\"role\"]==\"assistant\":\n",
        "            speaker=\"🧠\"\n",
        "\n",
        "        st.write(speaker + \": \" + message[\"content\"])"
      ],
      "metadata": {
        "id": "Ntj_BU3bnJli"
      },
      "execution_count": null,
      "outputs": []
    },
    {
      "cell_type": "markdown",
      "source": [
        "## 3. 必要なKEYの設定"
      ],
      "metadata": {
        "id": "6QbPQ7yv0aCq"
      }
    },
    {
      "cell_type": "markdown",
      "source": [
        "### OpenAIのAPI keyを設定\n",
        "ChatGPT APIを使用するために必要な「API key」を設定します。  \n",
        "`%%writefile`のマジックコマンドを使って、API keyを設定するコードを「secret_keys.py」に書き込みます。  \n",
        "以下のコードの、  \n",
        "`Your API key`の箇所を、自分のAPI keyにしてください。\n"
      ],
      "metadata": {
        "id": "pCvWZuvqQvyC"
      }
    },
    {
      "cell_type": "code",
      "source": [
        "%%writefile secret_keys.py\n",
        "\n",
        "openai_api_key = \"Your API key\""
      ],
      "metadata": {
        "id": "4lkJr3dk89bD",
        "colab": {
          "base_uri": "https://localhost:8080/"
        },
        "outputId": "72efca34-fe75-46b0-8ac5-a6800ff9d6c5"
      },
      "execution_count": 36,
      "outputs": [
        {
          "output_type": "stream",
          "name": "stdout",
          "text": [
            "Overwriting secret_keys.py\n"
          ]
        }
      ]
    },
    {
      "cell_type": "markdown",
      "source": [
        "*※API keyは他者に知られないように、慎重に扱ってください。*"
      ],
      "metadata": {
        "id": "2lEUNEp9n95k"
      }
    },
    {
      "cell_type": "markdown",
      "source": [
        "### ngrokのAuthtokenを設定\n",
        "ngrokで接続するために必要な「Authtoken」を設定します。  \n",
        "以下のコードの、  \n",
        "`!ngrok authtoken YourAuthtoken`  \n",
        "における  \n",
        "`YourAuthtoken`の箇所を、自分のAuthtokenに置き換えます。  \n",
        "※Authtokenは、ngrokのサイトに登録すれば取得することができます。  \n",
        "https://ngrok.com/\n"
      ],
      "metadata": {
        "id": "j03EsJaHh4KK"
      }
    },
    {
      "cell_type": "code",
      "source": [
        "!ngrok authtoken YourAuthtoken"
      ],
      "metadata": {
        "id": "mTfmORj2Dn7-"
      },
      "execution_count": null,
      "outputs": []
    },
    {
      "cell_type": "markdown",
      "source": [
        "*※ngrokのAuthtokenは他者に知られないように慎重に扱ってください。*"
      ],
      "metadata": {
        "id": "c_QaXaeyZHTJ"
      }
    },
    {
      "cell_type": "markdown",
      "source": [
        "## 4. キービジュアルをアップロード\n",
        "title.pngをアップロードします"
      ],
      "metadata": {
        "id": "gcWxxKGY3XCj"
      }
    },
    {
      "cell_type": "markdown",
      "source": [
        "## 5. アプリの起動\n",
        "streamlitの`run`コマンドでアプリを起動します。\n"
      ],
      "metadata": {
        "id": "CnobL05MkjB1"
      }
    },
    {
      "cell_type": "code",
      "source": [
        "!streamlit run app.py &>/dev/null&  # 「&>/dev/null&」により、出力を非表示にしてバックグランドジョブとして実行"
      ],
      "metadata": {
        "id": "W0jXlMXWK0vi"
      },
      "execution_count": 38,
      "outputs": []
    },
    {
      "cell_type": "markdown",
      "source": [
        "## 6. 確認用URLの生成（ngrok）"
      ],
      "metadata": {
        "id": "8tVONgWNwzZm"
      }
    },
    {
      "cell_type": "markdown",
      "source": [
        "ngrokのプロセスを終了した上で、新たにポートを指定して接続します。  \n",
        "接続の結果、urlを取得できます。  \n",
        "※ngrokの無料プランでは同時に1つのプロセスしか動かせないので、\n",
        "エラーが発生した場合は「ランタイム」→「セッションの管理」で不要な\n",
        "Google Colabのセッションを修了しましょう。"
      ],
      "metadata": {
        "id": "W5RLCJ7Sl2x_"
      }
    },
    {
      "cell_type": "code",
      "source": [
        "ngrok.kill()  # プロセスの修了\n",
        "url = ngrok.connect(port=\"8501\")  # 接続"
      ],
      "metadata": {
        "id": "v23ymsdLK3x7"
      },
      "execution_count": null,
      "outputs": []
    },
    {
      "cell_type": "markdown",
      "source": [
        "URLのhttpの部分をhttpsに変換する関数を設定します。"
      ],
      "metadata": {
        "id": "OywWF0KBw4y5"
      }
    },
    {
      "cell_type": "code",
      "source": [
        "def convert_http_to_https(url):\n",
        "    if url.startswith(\"http://\"):\n",
        "        url = url.replace(\"http://\", \"https://\", 1)\n",
        "    return url"
      ],
      "metadata": {
        "id": "gaEkk5Dsx0rR"
      },
      "execution_count": 40,
      "outputs": []
    },
    {
      "cell_type": "markdown",
      "source": [
        "変換したurlを表示し、リンク先でチャットボットが動作することを確認します。"
      ],
      "metadata": {
        "id": "NZ0O_pNan57t"
      }
    },
    {
      "cell_type": "code",
      "source": [
        "print(convert_http_to_https(url))"
      ],
      "metadata": {
        "id": "MIY7ositLAXC"
      },
      "execution_count": null,
      "outputs": []
    },
    {
      "cell_type": "markdown",
      "source": [
        "生成されたURLにアクセスして動作を確認してください。"
      ],
      "metadata": {
        "id": "P6sMPZY4z9a3"
      }
    }
  ]
}